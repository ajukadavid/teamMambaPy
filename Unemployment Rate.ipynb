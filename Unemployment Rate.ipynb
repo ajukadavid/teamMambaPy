{
 "cells": [
  {
   "cell_type": "markdown",
   "metadata": {},
   "source": [
    "\n",
    "# Unemployment Rate Measurment In Nigeria -  A Team Project\n",
    "                                    **INTRODUCTION**\n",
    "The Nigerian economy since the attainment of political independence in 1960 has undergone \n",
    "fundamental structural changes resulting in structural shifts which have however not resulted in \n",
    "any significant sustainable economic growth and development to ensure adequate employment \n",
    "opportunity for her youths. Recently, available data show that the Nigerian economy grew \n",
    "relatively in the greater parts of the 1970s, with respect to the oil boom of the 1970s.\n",
    "                                    **OBJECTIVES**\n",
    "The Aim of the project is to analyze, explore and query the data gotten from credible sources to find out the relationship between the literacy level of the country, the government structure and the oil prices, and also how these factors directly or indirectly affect/influence the rate of unemployment in the country.   \n",
    "\n",
    "                                     **DATA SOURCES**\n",
    "Unemployment Data @ www.fred.stlouisfed.org/series/SLUEM1524ZSNGA ...\n",
    "Literacy/Education Data @ www.data.worldbank.com ...\n",
    "Government System Data @ www.worldatlas.com ...\n",
    "Oil Prices Data @ www.statista.com \n",
    "\n",
    "                                    **METHODOLOGY/PROCESS**\n",
    "                                    \n",
    "-Define the problem\n",
    "-Obtain data\n",
    "-Explore data\n",
    "-Conclusions\n",
    "___\n",
    "** Import Pandas, Numpy and Matplotlib and read in the Unemployment csv file and set it to a DataFrame called unp. **"
   ]
  },
  {
   "cell_type": "code",
   "execution_count": 1,
   "metadata": {},
   "outputs": [],
   "source": [
    "import pandas as pd\n",
    "import numpy as np\n",
    "%matplotlib inline\n",
    "from scipy.stats import norm\n",
    "import matplotlib.pyplot as plt"
   ]
  },
  {
   "cell_type": "code",
   "execution_count": 2,
   "metadata": {},
   "outputs": [],
   "source": [
    "unp = pd.read_csv('TeamProject.csv')"
   ]
  },
  {
   "cell_type": "markdown",
   "metadata": {},
   "source": [
    "**Check the head of the DataFrame.**"
   ]
  },
  {
   "cell_type": "code",
   "execution_count": 3,
   "metadata": {},
   "outputs": [
    {
     "data": {
      "text/html": [
       "<div>\n",
       "<style scoped>\n",
       "    .dataframe tbody tr th:only-of-type {\n",
       "        vertical-align: middle;\n",
       "    }\n",
       "\n",
       "    .dataframe tbody tr th {\n",
       "        vertical-align: top;\n",
       "    }\n",
       "\n",
       "    .dataframe thead th {\n",
       "        text-align: right;\n",
       "    }\n",
       "</style>\n",
       "<table border=\"1\" class=\"dataframe\">\n",
       "  <thead>\n",
       "    <tr style=\"text-align: right;\">\n",
       "      <th></th>\n",
       "      <th>Date</th>\n",
       "      <th>Unemployment%</th>\n",
       "      <th>PP</th>\n",
       "      <th>Education%</th>\n",
       "      <th>LshipStyle</th>\n",
       "      <th>OilPrice$</th>\n",
       "    </tr>\n",
       "  </thead>\n",
       "  <tbody>\n",
       "    <tr>\n",
       "      <th>0</th>\n",
       "      <td>1991</td>\n",
       "      <td>9.322</td>\n",
       "      <td>M</td>\n",
       "      <td>55.446751</td>\n",
       "      <td>Military</td>\n",
       "      <td>18.62</td>\n",
       "    </tr>\n",
       "    <tr>\n",
       "      <th>1</th>\n",
       "      <td>1992</td>\n",
       "      <td>9.349</td>\n",
       "      <td>M</td>\n",
       "      <td>NaN</td>\n",
       "      <td>Military</td>\n",
       "      <td>18.44</td>\n",
       "    </tr>\n",
       "    <tr>\n",
       "      <th>2</th>\n",
       "      <td>1993</td>\n",
       "      <td>9.807</td>\n",
       "      <td>M</td>\n",
       "      <td>54.773178</td>\n",
       "      <td>Military</td>\n",
       "      <td>16.33</td>\n",
       "    </tr>\n",
       "    <tr>\n",
       "      <th>3</th>\n",
       "      <td>1994</td>\n",
       "      <td>9.794</td>\n",
       "      <td>M</td>\n",
       "      <td>NaN</td>\n",
       "      <td>Military</td>\n",
       "      <td>15.53</td>\n",
       "    </tr>\n",
       "    <tr>\n",
       "      <th>4</th>\n",
       "      <td>1995</td>\n",
       "      <td>9.816</td>\n",
       "      <td>M</td>\n",
       "      <td>NaN</td>\n",
       "      <td>Military</td>\n",
       "      <td>16.86</td>\n",
       "    </tr>\n",
       "    <tr>\n",
       "      <th>5</th>\n",
       "      <td>1996</td>\n",
       "      <td>9.841</td>\n",
       "      <td>M</td>\n",
       "      <td>NaN</td>\n",
       "      <td>Military</td>\n",
       "      <td>20.29</td>\n",
       "    </tr>\n",
       "    <tr>\n",
       "      <th>6</th>\n",
       "      <td>1997</td>\n",
       "      <td>9.829</td>\n",
       "      <td>M</td>\n",
       "      <td>NaN</td>\n",
       "      <td>Military</td>\n",
       "      <td>18.86</td>\n",
       "    </tr>\n",
       "    <tr>\n",
       "      <th>7</th>\n",
       "      <td>1998</td>\n",
       "      <td>9.827</td>\n",
       "      <td>M</td>\n",
       "      <td>NaN</td>\n",
       "      <td>Military</td>\n",
       "      <td>12.28</td>\n",
       "    </tr>\n",
       "    <tr>\n",
       "      <th>8</th>\n",
       "      <td>1999</td>\n",
       "      <td>9.804</td>\n",
       "      <td>PDP</td>\n",
       "      <td>NaN</td>\n",
       "      <td>Democracy</td>\n",
       "      <td>17.44</td>\n",
       "    </tr>\n",
       "    <tr>\n",
       "      <th>9</th>\n",
       "      <td>2000</td>\n",
       "      <td>9.865</td>\n",
       "      <td>PDP</td>\n",
       "      <td>NaN</td>\n",
       "      <td>Democracy</td>\n",
       "      <td>27.60</td>\n",
       "    </tr>\n",
       "    <tr>\n",
       "      <th>10</th>\n",
       "      <td>2001</td>\n",
       "      <td>9.877</td>\n",
       "      <td>PDP</td>\n",
       "      <td>NaN</td>\n",
       "      <td>Democracy</td>\n",
       "      <td>23.12</td>\n",
       "    </tr>\n",
       "    <tr>\n",
       "      <th>11</th>\n",
       "      <td>2002</td>\n",
       "      <td>9.922</td>\n",
       "      <td>PDP</td>\n",
       "      <td>NaN</td>\n",
       "      <td>Democracy</td>\n",
       "      <td>24.36</td>\n",
       "    </tr>\n",
       "    <tr>\n",
       "      <th>12</th>\n",
       "      <td>2003</td>\n",
       "      <td>9.905</td>\n",
       "      <td>PDP</td>\n",
       "      <td>NaN</td>\n",
       "      <td>Democracy</td>\n",
       "      <td>28.10</td>\n",
       "    </tr>\n",
       "    <tr>\n",
       "      <th>13</th>\n",
       "      <td>2004</td>\n",
       "      <td>9.909</td>\n",
       "      <td>PDP</td>\n",
       "      <td>NaN</td>\n",
       "      <td>Democracy</td>\n",
       "      <td>36.05</td>\n",
       "    </tr>\n",
       "    <tr>\n",
       "      <th>14</th>\n",
       "      <td>2005</td>\n",
       "      <td>9.868</td>\n",
       "      <td>PDP</td>\n",
       "      <td>NaN</td>\n",
       "      <td>Democracy</td>\n",
       "      <td>50.59</td>\n",
       "    </tr>\n",
       "    <tr>\n",
       "      <th>15</th>\n",
       "      <td>2006</td>\n",
       "      <td>9.854</td>\n",
       "      <td>PDP</td>\n",
       "      <td>NaN</td>\n",
       "      <td>Democracy</td>\n",
       "      <td>61.00</td>\n",
       "    </tr>\n",
       "    <tr>\n",
       "      <th>16</th>\n",
       "      <td>2007</td>\n",
       "      <td>9.849</td>\n",
       "      <td>PDP</td>\n",
       "      <td>NaN</td>\n",
       "      <td>Democracy</td>\n",
       "      <td>69.04</td>\n",
       "    </tr>\n",
       "    <tr>\n",
       "      <th>17</th>\n",
       "      <td>2008</td>\n",
       "      <td>9.837</td>\n",
       "      <td>PDP</td>\n",
       "      <td>51.077660</td>\n",
       "      <td>Democracy</td>\n",
       "      <td>94.10</td>\n",
       "    </tr>\n",
       "    <tr>\n",
       "      <th>18</th>\n",
       "      <td>2009</td>\n",
       "      <td>9.842</td>\n",
       "      <td>PDP</td>\n",
       "      <td>NaN</td>\n",
       "      <td>Democracy</td>\n",
       "      <td>60.86</td>\n",
       "    </tr>\n",
       "    <tr>\n",
       "      <th>19</th>\n",
       "      <td>2010</td>\n",
       "      <td>9.846</td>\n",
       "      <td>PDP</td>\n",
       "      <td>NaN</td>\n",
       "      <td>Democracy</td>\n",
       "      <td>77.38</td>\n",
       "    </tr>\n",
       "    <tr>\n",
       "      <th>20</th>\n",
       "      <td>2011</td>\n",
       "      <td>9.781</td>\n",
       "      <td>PDP</td>\n",
       "      <td>NaN</td>\n",
       "      <td>Democracy</td>\n",
       "      <td>107.46</td>\n",
       "    </tr>\n",
       "    <tr>\n",
       "      <th>21</th>\n",
       "      <td>2012</td>\n",
       "      <td>9.765</td>\n",
       "      <td>PDP</td>\n",
       "      <td>NaN</td>\n",
       "      <td>Democracy</td>\n",
       "      <td>109.45</td>\n",
       "    </tr>\n",
       "    <tr>\n",
       "      <th>22</th>\n",
       "      <td>2013</td>\n",
       "      <td>9.769</td>\n",
       "      <td>PDP</td>\n",
       "      <td>NaN</td>\n",
       "      <td>Democracy</td>\n",
       "      <td>105.87</td>\n",
       "    </tr>\n",
       "    <tr>\n",
       "      <th>23</th>\n",
       "      <td>2014</td>\n",
       "      <td>8.516</td>\n",
       "      <td>PDP</td>\n",
       "      <td>NaN</td>\n",
       "      <td>Democracy</td>\n",
       "      <td>96.29</td>\n",
       "    </tr>\n",
       "    <tr>\n",
       "      <th>24</th>\n",
       "      <td>2015</td>\n",
       "      <td>8.047</td>\n",
       "      <td>APC</td>\n",
       "      <td>NaN</td>\n",
       "      <td>Democracy</td>\n",
       "      <td>49.49</td>\n",
       "    </tr>\n",
       "    <tr>\n",
       "      <th>25</th>\n",
       "      <td>2016</td>\n",
       "      <td>13.064</td>\n",
       "      <td>APC</td>\n",
       "      <td>NaN</td>\n",
       "      <td>Democracy</td>\n",
       "      <td>40.68</td>\n",
       "    </tr>\n",
       "    <tr>\n",
       "      <th>26</th>\n",
       "      <td>2017</td>\n",
       "      <td>13.413</td>\n",
       "      <td>APC</td>\n",
       "      <td>NaN</td>\n",
       "      <td>Democracy</td>\n",
       "      <td>52.51</td>\n",
       "    </tr>\n",
       "  </tbody>\n",
       "</table>\n",
       "</div>"
      ],
      "text/plain": [
       "    Date  Unemployment%   PP  Education% LshipStyle  OilPrice$\n",
       "0   1991          9.322    M   55.446751   Military      18.62\n",
       "1   1992          9.349    M         NaN   Military      18.44\n",
       "2   1993          9.807    M   54.773178   Military      16.33\n",
       "3   1994          9.794    M         NaN   Military      15.53\n",
       "4   1995          9.816    M         NaN   Military      16.86\n",
       "5   1996          9.841    M         NaN   Military      20.29\n",
       "6   1997          9.829    M         NaN   Military      18.86\n",
       "7   1998          9.827    M         NaN   Military      12.28\n",
       "8   1999          9.804  PDP         NaN  Democracy      17.44\n",
       "9   2000          9.865  PDP         NaN  Democracy      27.60\n",
       "10  2001          9.877  PDP         NaN  Democracy      23.12\n",
       "11  2002          9.922  PDP         NaN  Democracy      24.36\n",
       "12  2003          9.905  PDP         NaN  Democracy      28.10\n",
       "13  2004          9.909  PDP         NaN  Democracy      36.05\n",
       "14  2005          9.868  PDP         NaN  Democracy      50.59\n",
       "15  2006          9.854  PDP         NaN  Democracy      61.00\n",
       "16  2007          9.849  PDP         NaN  Democracy      69.04\n",
       "17  2008          9.837  PDP   51.077660  Democracy      94.10\n",
       "18  2009          9.842  PDP         NaN  Democracy      60.86\n",
       "19  2010          9.846  PDP         NaN  Democracy      77.38\n",
       "20  2011          9.781  PDP         NaN  Democracy     107.46\n",
       "21  2012          9.765  PDP         NaN  Democracy     109.45\n",
       "22  2013          9.769  PDP         NaN  Democracy     105.87\n",
       "23  2014          8.516  PDP         NaN  Democracy      96.29\n",
       "24  2015          8.047  APC         NaN  Democracy      49.49\n",
       "25  2016         13.064  APC         NaN  Democracy      40.68\n",
       "26  2017         13.413  APC         NaN  Democracy      52.51"
      ]
     },
     "execution_count": 3,
     "metadata": {},
     "output_type": "execute_result"
    }
   ],
   "source": [
    "unp.head(27)"
   ]
  },
  {
   "cell_type": "markdown",
   "metadata": {},
   "source": [
    "** How many rows and columns are there? **"
   ]
  },
  {
   "cell_type": "code",
   "execution_count": 128,
   "metadata": {},
   "outputs": [
    {
     "name": "stdout",
     "output_type": "stream",
     "text": [
      "<class 'pandas.core.frame.DataFrame'>\n",
      "RangeIndex: 27 entries, 0 to 26\n",
      "Data columns (total 6 columns):\n",
      "Date             27 non-null int64\n",
      "Unemployment%    27 non-null float64\n",
      "PP               27 non-null object\n",
      "Education%       3 non-null float64\n",
      "LshipStyle       27 non-null object\n",
      "OilPrice$        27 non-null float64\n",
      "dtypes: float64(3), int64(1), object(2)\n",
      "memory usage: 1.3+ KB\n"
     ]
    }
   ],
   "source": [
    "unp.info()"
   ]
  },
  {
   "cell_type": "markdown",
   "metadata": {},
   "source": [
    "** What is the average Unemployment rate ? **"
   ]
  },
  {
   "cell_type": "code",
   "execution_count": 130,
   "metadata": {},
   "outputs": [
    {
     "data": {
      "text/plain": [
       "9.836999893"
      ]
     },
     "execution_count": 130,
     "metadata": {},
     "output_type": "execute_result"
    }
   ],
   "source": [
    "unp['Unemployment%'].median()"
   ]
  },
  {
   "cell_type": "code",
   "execution_count": 131,
   "metadata": {},
   "outputs": [
    {
     "data": {
      "text/plain": [
       "9.937703662555556"
      ]
     },
     "execution_count": 131,
     "metadata": {},
     "output_type": "execute_result"
    }
   ],
   "source": [
    "unp['Unemployment%'].mean()"
   ]
  },
  {
   "cell_type": "markdown",
   "metadata": {},
   "source": [
    "** What were the highest and lowest Unemployment rate? **"
   ]
  },
  {
   "cell_type": "code",
   "execution_count": 132,
   "metadata": {},
   "outputs": [
    {
     "data": {
      "text/plain": [
       "13.41300011"
      ]
     },
     "execution_count": 132,
     "metadata": {},
     "output_type": "execute_result"
    }
   ],
   "source": [
    "unp['Unemployment%'].max()\n"
   ]
  },
  {
   "cell_type": "code",
   "execution_count": 133,
   "metadata": {},
   "outputs": [
    {
     "data": {
      "text/plain": [
       "8.0469999310000002"
      ]
     },
     "execution_count": 133,
     "metadata": {},
     "output_type": "execute_result"
    }
   ],
   "source": [
    "unp['Unemployment%'].min()"
   ]
  },
  {
   "cell_type": "markdown",
   "metadata": {},
   "source": [
    "** Graphic visualisation of our dataset **\n"
   ]
  },
  {
   "cell_type": "code",
   "execution_count": 134,
   "metadata": {},
   "outputs": [
    {
     "data": {
      "text/plain": [
       "<matplotlib.axes._subplots.AxesSubplot at 0xc71c3b1588>"
      ]
     },
     "execution_count": 134,
     "metadata": {},
     "output_type": "execute_result"
    },
    {
     "data": {
      "image/png": "[encoded data removed]",
      "text/plain": [
       "<matplotlib.figure.Figure at 0xc71c3c7ef0>"
      ]
     },
     "metadata": {},
     "output_type": "display_data"
    }
   ],
   "source": [
    "unp.plot.line(x='Date',y='Unemployment%',figsize=(12,3),lw=3)"
   ]
  },
  {
   "cell_type": "code",
   "execution_count": 135,
   "metadata": {},
   "outputs": [
    {
     "data": {
      "text/plain": [
       "<matplotlib.axes._subplots.AxesSubplot at 0xc71c3c7208>"
      ]
     },
     "execution_count": 135,
     "metadata": {},
     "output_type": "execute_result"
    },
    {
     "data": {
      "image/png": "[encoded data removed]",
      "text/plain": [
       "<matplotlib.figure.Figure at 0xc71bef6710>"
      ]
     },
     "metadata": {},
     "output_type": "display_data"
    }
   ],
   "source": [
    "unp.plot.bar(0)"
   ]
  },
  {
   "cell_type": "code",
   "execution_count": 136,
   "metadata": {},
   "outputs": [
    {
     "data": {
      "text/plain": [
       "<matplotlib.axes._subplots.AxesSubplot at 0xc71ae83748>"
      ]
     },
     "execution_count": 136,
     "metadata": {},
     "output_type": "execute_result"
    },
    {
     "data": {
      "image/png": "[encoded data removed]",
      "text/plain": [
       "<matplotlib.figure.Figure at 0xc71ac728d0>"
      ]
     },
     "metadata": {},
     "output_type": "display_data"
    }
   ],
   "source": [
    "unp.plot.scatter(x='OilPrice$',y='Unemployment%',c='Date',cmap='coolwarm')"
   ]
  },
  {
   "cell_type": "code",
   "execution_count": 4,
   "metadata": {},
   "outputs": [
    {
     "data": {
      "image/png": "[encoded data removed]",
      "text/plain": [
       "<Figure size 432x288 with 1 Axes>"
      ]
     },
     "metadata": {},
     "output_type": "display_data"
    }
   ],
   "source": [
    "from matplotlib import style\n",
    "x = [8.0469999310000002,13.41300011]\n",
    "y = [1991,2017]\n",
    "#z = [12.279999999999999,109.45]\n",
    "\n",
    "x2= [12.279999999999999,109.45]\n",
    "y2 =[1991,2017]\n",
    "\n",
    "\n",
    "style.use('ggplot')\n",
    "plt.bar(x, y, color = 'm', align ='center')\n",
    "plt.bar(x2, y2, color = 'g', align = 'center')\n",
    "plt.title('Unemployment Indicator')\n",
    "plt.xlabel('Unemployment and OilPrice')\n",
    "plt.ylabel('Date')\n",
    "plt.show()"
   ]
  },
  {
   "cell_type": "markdown",
   "metadata": {},
   "source": [
    "**How level of literacy, leadership style, and oil prices affects unemployment rate in the country year on year : using the median as a means of measurement.**"
   ]
  },
  {
   "cell_type": "markdown",
   "metadata": {},
   "source": [
    "Querying values with level of education"
   ]
  },
  {
   "cell_type": "code",
   "execution_count": 138,
   "metadata": {},
   "outputs": [
    {
     "data": {
      "text/html": [
       "<div>\n",
       "<style>\n",
       "    .dataframe thead tr:only-child th {\n",
       "        text-align: right;\n",
       "    }\n",
       "\n",
       "    .dataframe thead th {\n",
       "        text-align: left;\n",
       "    }\n",
       "\n",
       "    .dataframe tbody tr th {\n",
       "        vertical-align: top;\n",
       "    }\n",
       "</style>\n",
       "<table border=\"1\" class=\"dataframe\">\n",
       "  <thead>\n",
       "    <tr style=\"text-align: right;\">\n",
       "      <th></th>\n",
       "      <th>Date</th>\n",
       "      <th>Unemployment%</th>\n",
       "      <th>PP</th>\n",
       "      <th>Education%</th>\n",
       "      <th>LshipStyle</th>\n",
       "      <th>OilPrice$</th>\n",
       "    </tr>\n",
       "  </thead>\n",
       "  <tbody>\n",
       "    <tr>\n",
       "      <th>2</th>\n",
       "      <td>1993</td>\n",
       "      <td>9.807</td>\n",
       "      <td>M</td>\n",
       "      <td>54.773178</td>\n",
       "      <td>Military</td>\n",
       "      <td>16.33</td>\n",
       "    </tr>\n",
       "    <tr>\n",
       "      <th>17</th>\n",
       "      <td>2008</td>\n",
       "      <td>9.837</td>\n",
       "      <td>PDP</td>\n",
       "      <td>51.077660</td>\n",
       "      <td>Democracy</td>\n",
       "      <td>94.10</td>\n",
       "    </tr>\n",
       "  </tbody>\n",
       "</table>\n",
       "</div>"
      ],
      "text/plain": [
       "    Date  Unemployment%   PP  Education% LshipStyle  OilPrice$\n",
       "2   1993          9.807    M   54.773178   Military      16.33\n",
       "17  2008          9.837  PDP   51.077660  Democracy      94.10"
      ]
     },
     "execution_count": 138,
     "metadata": {},
     "output_type": "execute_result"
    }
   ],
   "source": [
    "unp[(unp['Education%']>= 50)& (unp['Unemployment%']>9.8)]"
   ]
  },
  {
   "cell_type": "markdown",
   "metadata": {},
   "source": [
    "Querying values with Leadership Style"
   ]
  },
  {
   "cell_type": "code",
   "execution_count": 144,
   "metadata": {},
   "outputs": [
    {
     "data": {
      "text/html": [
       "<div>\n",
       "<style>\n",
       "    .dataframe thead tr:only-child th {\n",
       "        text-align: right;\n",
       "    }\n",
       "\n",
       "    .dataframe thead th {\n",
       "        text-align: left;\n",
       "    }\n",
       "\n",
       "    .dataframe tbody tr th {\n",
       "        vertical-align: top;\n",
       "    }\n",
       "</style>\n",
       "<table border=\"1\" class=\"dataframe\">\n",
       "  <thead>\n",
       "    <tr style=\"text-align: right;\">\n",
       "      <th></th>\n",
       "      <th>Date</th>\n",
       "      <th>Unemployment%</th>\n",
       "      <th>PP</th>\n",
       "      <th>Education%</th>\n",
       "      <th>LshipStyle</th>\n",
       "      <th>OilPrice$</th>\n",
       "    </tr>\n",
       "  </thead>\n",
       "  <tbody>\n",
       "    <tr>\n",
       "      <th>2</th>\n",
       "      <td>1993</td>\n",
       "      <td>9.807</td>\n",
       "      <td>M</td>\n",
       "      <td>54.773178</td>\n",
       "      <td>Military</td>\n",
       "      <td>16.33</td>\n",
       "    </tr>\n",
       "    <tr>\n",
       "      <th>4</th>\n",
       "      <td>1995</td>\n",
       "      <td>9.816</td>\n",
       "      <td>M</td>\n",
       "      <td>NaN</td>\n",
       "      <td>Military</td>\n",
       "      <td>16.86</td>\n",
       "    </tr>\n",
       "    <tr>\n",
       "      <th>5</th>\n",
       "      <td>1996</td>\n",
       "      <td>9.841</td>\n",
       "      <td>M</td>\n",
       "      <td>NaN</td>\n",
       "      <td>Military</td>\n",
       "      <td>20.29</td>\n",
       "    </tr>\n",
       "    <tr>\n",
       "      <th>6</th>\n",
       "      <td>1997</td>\n",
       "      <td>9.829</td>\n",
       "      <td>M</td>\n",
       "      <td>NaN</td>\n",
       "      <td>Military</td>\n",
       "      <td>18.86</td>\n",
       "    </tr>\n",
       "    <tr>\n",
       "      <th>7</th>\n",
       "      <td>1998</td>\n",
       "      <td>9.827</td>\n",
       "      <td>M</td>\n",
       "      <td>NaN</td>\n",
       "      <td>Military</td>\n",
       "      <td>12.28</td>\n",
       "    </tr>\n",
       "  </tbody>\n",
       "</table>\n",
       "</div>"
      ],
      "text/plain": [
       "   Date  Unemployment% PP  Education% LshipStyle  OilPrice$\n",
       "2  1993          9.807  M   54.773178   Military      16.33\n",
       "4  1995          9.816  M         NaN   Military      16.86\n",
       "5  1996          9.841  M         NaN   Military      20.29\n",
       "6  1997          9.829  M         NaN   Military      18.86\n",
       "7  1998          9.827  M         NaN   Military      12.28"
      ]
     },
     "execution_count": 144,
     "metadata": {},
     "output_type": "execute_result"
    }
   ],
   "source": [
    "unp[(unp['LshipStyle']== 'Military')& (unp['Unemployment%']>9.8)]"
   ]
  },
  {
   "cell_type": "code",
   "execution_count": 145,
   "metadata": {},
   "outputs": [
    {
     "data": {
      "text/html": [
       "<div>\n",
       "<style>\n",
       "    .dataframe thead tr:only-child th {\n",
       "        text-align: right;\n",
       "    }\n",
       "\n",
       "    .dataframe thead th {\n",
       "        text-align: left;\n",
       "    }\n",
       "\n",
       "    .dataframe tbody tr th {\n",
       "        vertical-align: top;\n",
       "    }\n",
       "</style>\n",
       "<table border=\"1\" class=\"dataframe\">\n",
       "  <thead>\n",
       "    <tr style=\"text-align: right;\">\n",
       "      <th></th>\n",
       "      <th>Date</th>\n",
       "      <th>Unemployment%</th>\n",
       "      <th>PP</th>\n",
       "      <th>Education%</th>\n",
       "      <th>LshipStyle</th>\n",
       "      <th>OilPrice$</th>\n",
       "    </tr>\n",
       "  </thead>\n",
       "  <tbody>\n",
       "    <tr>\n",
       "      <th>8</th>\n",
       "      <td>1999</td>\n",
       "      <td>9.804</td>\n",
       "      <td>PDP</td>\n",
       "      <td>NaN</td>\n",
       "      <td>Democracy</td>\n",
       "      <td>17.44</td>\n",
       "    </tr>\n",
       "    <tr>\n",
       "      <th>9</th>\n",
       "      <td>2000</td>\n",
       "      <td>9.865</td>\n",
       "      <td>PDP</td>\n",
       "      <td>NaN</td>\n",
       "      <td>Democracy</td>\n",
       "      <td>27.60</td>\n",
       "    </tr>\n",
       "    <tr>\n",
       "      <th>10</th>\n",
       "      <td>2001</td>\n",
       "      <td>9.877</td>\n",
       "      <td>PDP</td>\n",
       "      <td>NaN</td>\n",
       "      <td>Democracy</td>\n",
       "      <td>23.12</td>\n",
       "    </tr>\n",
       "    <tr>\n",
       "      <th>11</th>\n",
       "      <td>2002</td>\n",
       "      <td>9.922</td>\n",
       "      <td>PDP</td>\n",
       "      <td>NaN</td>\n",
       "      <td>Democracy</td>\n",
       "      <td>24.36</td>\n",
       "    </tr>\n",
       "    <tr>\n",
       "      <th>12</th>\n",
       "      <td>2003</td>\n",
       "      <td>9.905</td>\n",
       "      <td>PDP</td>\n",
       "      <td>NaN</td>\n",
       "      <td>Democracy</td>\n",
       "      <td>28.10</td>\n",
       "    </tr>\n",
       "    <tr>\n",
       "      <th>13</th>\n",
       "      <td>2004</td>\n",
       "      <td>9.909</td>\n",
       "      <td>PDP</td>\n",
       "      <td>NaN</td>\n",
       "      <td>Democracy</td>\n",
       "      <td>36.05</td>\n",
       "    </tr>\n",
       "    <tr>\n",
       "      <th>14</th>\n",
       "      <td>2005</td>\n",
       "      <td>9.868</td>\n",
       "      <td>PDP</td>\n",
       "      <td>NaN</td>\n",
       "      <td>Democracy</td>\n",
       "      <td>50.59</td>\n",
       "    </tr>\n",
       "    <tr>\n",
       "      <th>15</th>\n",
       "      <td>2006</td>\n",
       "      <td>9.854</td>\n",
       "      <td>PDP</td>\n",
       "      <td>NaN</td>\n",
       "      <td>Democracy</td>\n",
       "      <td>61.00</td>\n",
       "    </tr>\n",
       "    <tr>\n",
       "      <th>16</th>\n",
       "      <td>2007</td>\n",
       "      <td>9.849</td>\n",
       "      <td>PDP</td>\n",
       "      <td>NaN</td>\n",
       "      <td>Democracy</td>\n",
       "      <td>69.04</td>\n",
       "    </tr>\n",
       "    <tr>\n",
       "      <th>17</th>\n",
       "      <td>2008</td>\n",
       "      <td>9.837</td>\n",
       "      <td>PDP</td>\n",
       "      <td>51.07766</td>\n",
       "      <td>Democracy</td>\n",
       "      <td>94.10</td>\n",
       "    </tr>\n",
       "    <tr>\n",
       "      <th>18</th>\n",
       "      <td>2009</td>\n",
       "      <td>9.842</td>\n",
       "      <td>PDP</td>\n",
       "      <td>NaN</td>\n",
       "      <td>Democracy</td>\n",
       "      <td>60.86</td>\n",
       "    </tr>\n",
       "    <tr>\n",
       "      <th>19</th>\n",
       "      <td>2010</td>\n",
       "      <td>9.846</td>\n",
       "      <td>PDP</td>\n",
       "      <td>NaN</td>\n",
       "      <td>Democracy</td>\n",
       "      <td>77.38</td>\n",
       "    </tr>\n",
       "    <tr>\n",
       "      <th>25</th>\n",
       "      <td>2016</td>\n",
       "      <td>13.064</td>\n",
       "      <td>APC</td>\n",
       "      <td>NaN</td>\n",
       "      <td>Democracy</td>\n",
       "      <td>40.68</td>\n",
       "    </tr>\n",
       "    <tr>\n",
       "      <th>26</th>\n",
       "      <td>2017</td>\n",
       "      <td>13.413</td>\n",
       "      <td>APC</td>\n",
       "      <td>NaN</td>\n",
       "      <td>Democracy</td>\n",
       "      <td>52.51</td>\n",
       "    </tr>\n",
       "  </tbody>\n",
       "</table>\n",
       "</div>"
      ],
      "text/plain": [
       "    Date  Unemployment%   PP  Education% LshipStyle  OilPrice$\n",
       "8   1999          9.804  PDP         NaN  Democracy      17.44\n",
       "9   2000          9.865  PDP         NaN  Democracy      27.60\n",
       "10  2001          9.877  PDP         NaN  Democracy      23.12\n",
       "11  2002          9.922  PDP         NaN  Democracy      24.36\n",
       "12  2003          9.905  PDP         NaN  Democracy      28.10\n",
       "13  2004          9.909  PDP         NaN  Democracy      36.05\n",
       "14  2005          9.868  PDP         NaN  Democracy      50.59\n",
       "15  2006          9.854  PDP         NaN  Democracy      61.00\n",
       "16  2007          9.849  PDP         NaN  Democracy      69.04\n",
       "17  2008          9.837  PDP    51.07766  Democracy      94.10\n",
       "18  2009          9.842  PDP         NaN  Democracy      60.86\n",
       "19  2010          9.846  PDP         NaN  Democracy      77.38\n",
       "25  2016         13.064  APC         NaN  Democracy      40.68\n",
       "26  2017         13.413  APC         NaN  Democracy      52.51"
      ]
     },
     "execution_count": 145,
     "metadata": {},
     "output_type": "execute_result"
    }
   ],
   "source": [
    "unp[(unp['LshipStyle']== 'Democracy')& (unp['Unemployment%']>9.8)]"
   ]
  },
  {
   "cell_type": "code",
   "execution_count": 146,
   "metadata": {},
   "outputs": [
    {
     "data": {
      "text/plain": [
       "109.45"
      ]
     },
     "execution_count": 146,
     "metadata": {},
     "output_type": "execute_result"
    }
   ],
   "source": [
    "unp['OilPrice$'].max()"
   ]
  },
  {
   "cell_type": "code",
   "execution_count": 147,
   "metadata": {},
   "outputs": [
    {
     "data": {
      "text/plain": [
       "36.05"
      ]
     },
     "execution_count": 147,
     "metadata": {},
     "output_type": "execute_result"
    }
   ],
   "source": [
    "unp['OilPrice$'].median()"
   ]
  },
  {
   "cell_type": "code",
   "execution_count": 87,
   "metadata": {},
   "outputs": [
    {
     "data": {
      "text/plain": [
       "12.279999999999999"
      ]
     },
     "execution_count": 87,
     "metadata": {},
     "output_type": "execute_result"
    }
   ],
   "source": [
    "unp['OilPrice'].min()"
   ]
  },
  {
   "cell_type": "code",
   "execution_count": 149,
   "metadata": {},
   "outputs": [
    {
     "data": {
      "text/html": [
       "<div>\n",
       "<style>\n",
       "    .dataframe thead tr:only-child th {\n",
       "        text-align: right;\n",
       "    }\n",
       "\n",
       "    .dataframe thead th {\n",
       "        text-align: left;\n",
       "    }\n",
       "\n",
       "    .dataframe tbody tr th {\n",
       "        vertical-align: top;\n",
       "    }\n",
       "</style>\n",
       "<table border=\"1\" class=\"dataframe\">\n",
       "  <thead>\n",
       "    <tr style=\"text-align: right;\">\n",
       "      <th></th>\n",
       "      <th>Date</th>\n",
       "      <th>Unemployment%</th>\n",
       "      <th>PP</th>\n",
       "      <th>Education%</th>\n",
       "      <th>LshipStyle</th>\n",
       "      <th>OilPrice$</th>\n",
       "    </tr>\n",
       "  </thead>\n",
       "  <tbody>\n",
       "    <tr>\n",
       "      <th>17</th>\n",
       "      <td>2008</td>\n",
       "      <td>9.837</td>\n",
       "      <td>PDP</td>\n",
       "      <td>51.07766</td>\n",
       "      <td>Democracy</td>\n",
       "      <td>94.1</td>\n",
       "    </tr>\n",
       "  </tbody>\n",
       "</table>\n",
       "</div>"
      ],
      "text/plain": [
       "    Date  Unemployment%   PP  Education% LshipStyle  OilPrice$\n",
       "17  2008          9.837  PDP    51.07766  Democracy       94.1"
      ]
     },
     "execution_count": 149,
     "metadata": {},
     "output_type": "execute_result"
    }
   ],
   "source": [
    "unp[(unp['Education%']>= 50) & (unp['OilPrice$']>36.05)& (unp['Unemployment%']>9.8)]"
   ]
  },
  {
   "cell_type": "code",
   "execution_count": 150,
   "metadata": {},
   "outputs": [
    {
     "data": {
      "text/html": [
       "<div>\n",
       "<style>\n",
       "    .dataframe thead tr:only-child th {\n",
       "        text-align: right;\n",
       "    }\n",
       "\n",
       "    .dataframe thead th {\n",
       "        text-align: left;\n",
       "    }\n",
       "\n",
       "    .dataframe tbody tr th {\n",
       "        vertical-align: top;\n",
       "    }\n",
       "</style>\n",
       "<table border=\"1\" class=\"dataframe\">\n",
       "  <thead>\n",
       "    <tr style=\"text-align: right;\">\n",
       "      <th></th>\n",
       "      <th>Date</th>\n",
       "      <th>Unemployment%</th>\n",
       "      <th>PP</th>\n",
       "      <th>Education%</th>\n",
       "      <th>LshipStyle</th>\n",
       "      <th>OilPrice$</th>\n",
       "    </tr>\n",
       "  </thead>\n",
       "  <tbody>\n",
       "    <tr>\n",
       "      <th>2</th>\n",
       "      <td>1993</td>\n",
       "      <td>9.807</td>\n",
       "      <td>M</td>\n",
       "      <td>54.773178</td>\n",
       "      <td>Military</td>\n",
       "      <td>16.33</td>\n",
       "    </tr>\n",
       "  </tbody>\n",
       "</table>\n",
       "</div>"
      ],
      "text/plain": [
       "   Date  Unemployment% PP  Education% LshipStyle  OilPrice$\n",
       "2  1993          9.807  M   54.773178   Military      16.33"
      ]
     },
     "execution_count": 150,
     "metadata": {},
     "output_type": "execute_result"
    }
   ],
   "source": [
    "unp[(unp['Education%']>= 50) & (unp['OilPrice$']<36.05)& (unp['Unemployment%']>9.8)]"
   ]
  },
  {
   "cell_type": "code",
   "execution_count": 151,
   "metadata": {},
   "outputs": [
    {
     "data": {
      "text/html": [
       "<div>\n",
       "<style>\n",
       "    .dataframe thead tr:only-child th {\n",
       "        text-align: right;\n",
       "    }\n",
       "\n",
       "    .dataframe thead th {\n",
       "        text-align: left;\n",
       "    }\n",
       "\n",
       "    .dataframe tbody tr th {\n",
       "        vertical-align: top;\n",
       "    }\n",
       "</style>\n",
       "<table border=\"1\" class=\"dataframe\">\n",
       "  <thead>\n",
       "    <tr style=\"text-align: right;\">\n",
       "      <th></th>\n",
       "      <th>Date</th>\n",
       "      <th>Unemployment%</th>\n",
       "      <th>PP</th>\n",
       "      <th>Education%</th>\n",
       "      <th>LshipStyle</th>\n",
       "      <th>OilPrice$</th>\n",
       "    </tr>\n",
       "  </thead>\n",
       "  <tbody>\n",
       "    <tr>\n",
       "      <th>20</th>\n",
       "      <td>2011</td>\n",
       "      <td>9.781</td>\n",
       "      <td>PDP</td>\n",
       "      <td>NaN</td>\n",
       "      <td>Democracy</td>\n",
       "      <td>107.46</td>\n",
       "    </tr>\n",
       "    <tr>\n",
       "      <th>21</th>\n",
       "      <td>2012</td>\n",
       "      <td>9.765</td>\n",
       "      <td>PDP</td>\n",
       "      <td>NaN</td>\n",
       "      <td>Democracy</td>\n",
       "      <td>109.45</td>\n",
       "    </tr>\n",
       "    <tr>\n",
       "      <th>22</th>\n",
       "      <td>2013</td>\n",
       "      <td>9.769</td>\n",
       "      <td>PDP</td>\n",
       "      <td>NaN</td>\n",
       "      <td>Democracy</td>\n",
       "      <td>105.87</td>\n",
       "    </tr>\n",
       "    <tr>\n",
       "      <th>23</th>\n",
       "      <td>2014</td>\n",
       "      <td>8.516</td>\n",
       "      <td>PDP</td>\n",
       "      <td>NaN</td>\n",
       "      <td>Democracy</td>\n",
       "      <td>96.29</td>\n",
       "    </tr>\n",
       "    <tr>\n",
       "      <th>24</th>\n",
       "      <td>2015</td>\n",
       "      <td>8.047</td>\n",
       "      <td>APC</td>\n",
       "      <td>NaN</td>\n",
       "      <td>Democracy</td>\n",
       "      <td>49.49</td>\n",
       "    </tr>\n",
       "  </tbody>\n",
       "</table>\n",
       "</div>"
      ],
      "text/plain": [
       "    Date  Unemployment%   PP  Education% LshipStyle  OilPrice$\n",
       "20  2011          9.781  PDP         NaN  Democracy     107.46\n",
       "21  2012          9.765  PDP         NaN  Democracy     109.45\n",
       "22  2013          9.769  PDP         NaN  Democracy     105.87\n",
       "23  2014          8.516  PDP         NaN  Democracy      96.29\n",
       "24  2015          8.047  APC         NaN  Democracy      49.49"
      ]
     },
     "execution_count": 151,
     "metadata": {},
     "output_type": "execute_result"
    }
   ],
   "source": [
    "unp[(unp['Unemployment%']<=9.8) & (unp['OilPrice$']>36.05)]"
   ]
  },
  {
   "cell_type": "code",
   "execution_count": 152,
   "metadata": {},
   "outputs": [
    {
     "data": {
      "text/html": [
       "<div>\n",
       "<style>\n",
       "    .dataframe thead tr:only-child th {\n",
       "        text-align: right;\n",
       "    }\n",
       "\n",
       "    .dataframe thead th {\n",
       "        text-align: left;\n",
       "    }\n",
       "\n",
       "    .dataframe tbody tr th {\n",
       "        vertical-align: top;\n",
       "    }\n",
       "</style>\n",
       "<table border=\"1\" class=\"dataframe\">\n",
       "  <thead>\n",
       "    <tr style=\"text-align: right;\">\n",
       "      <th></th>\n",
       "      <th>Date</th>\n",
       "      <th>Unemployment%</th>\n",
       "      <th>PP</th>\n",
       "      <th>Education%</th>\n",
       "      <th>LshipStyle</th>\n",
       "      <th>OilPrice$</th>\n",
       "    </tr>\n",
       "  </thead>\n",
       "  <tbody>\n",
       "    <tr>\n",
       "      <th>2</th>\n",
       "      <td>1993</td>\n",
       "      <td>9.807</td>\n",
       "      <td>M</td>\n",
       "      <td>54.773178</td>\n",
       "      <td>Military</td>\n",
       "      <td>16.33</td>\n",
       "    </tr>\n",
       "    <tr>\n",
       "      <th>4</th>\n",
       "      <td>1995</td>\n",
       "      <td>9.816</td>\n",
       "      <td>M</td>\n",
       "      <td>NaN</td>\n",
       "      <td>Military</td>\n",
       "      <td>16.86</td>\n",
       "    </tr>\n",
       "    <tr>\n",
       "      <th>5</th>\n",
       "      <td>1996</td>\n",
       "      <td>9.841</td>\n",
       "      <td>M</td>\n",
       "      <td>NaN</td>\n",
       "      <td>Military</td>\n",
       "      <td>20.29</td>\n",
       "    </tr>\n",
       "    <tr>\n",
       "      <th>6</th>\n",
       "      <td>1997</td>\n",
       "      <td>9.829</td>\n",
       "      <td>M</td>\n",
       "      <td>NaN</td>\n",
       "      <td>Military</td>\n",
       "      <td>18.86</td>\n",
       "    </tr>\n",
       "    <tr>\n",
       "      <th>7</th>\n",
       "      <td>1998</td>\n",
       "      <td>9.827</td>\n",
       "      <td>M</td>\n",
       "      <td>NaN</td>\n",
       "      <td>Military</td>\n",
       "      <td>12.28</td>\n",
       "    </tr>\n",
       "    <tr>\n",
       "      <th>8</th>\n",
       "      <td>1999</td>\n",
       "      <td>9.804</td>\n",
       "      <td>PDP</td>\n",
       "      <td>NaN</td>\n",
       "      <td>Democracy</td>\n",
       "      <td>17.44</td>\n",
       "    </tr>\n",
       "    <tr>\n",
       "      <th>9</th>\n",
       "      <td>2000</td>\n",
       "      <td>9.865</td>\n",
       "      <td>PDP</td>\n",
       "      <td>NaN</td>\n",
       "      <td>Democracy</td>\n",
       "      <td>27.60</td>\n",
       "    </tr>\n",
       "    <tr>\n",
       "      <th>10</th>\n",
       "      <td>2001</td>\n",
       "      <td>9.877</td>\n",
       "      <td>PDP</td>\n",
       "      <td>NaN</td>\n",
       "      <td>Democracy</td>\n",
       "      <td>23.12</td>\n",
       "    </tr>\n",
       "    <tr>\n",
       "      <th>11</th>\n",
       "      <td>2002</td>\n",
       "      <td>9.922</td>\n",
       "      <td>PDP</td>\n",
       "      <td>NaN</td>\n",
       "      <td>Democracy</td>\n",
       "      <td>24.36</td>\n",
       "    </tr>\n",
       "    <tr>\n",
       "      <th>12</th>\n",
       "      <td>2003</td>\n",
       "      <td>9.905</td>\n",
       "      <td>PDP</td>\n",
       "      <td>NaN</td>\n",
       "      <td>Democracy</td>\n",
       "      <td>28.10</td>\n",
       "    </tr>\n",
       "  </tbody>\n",
       "</table>\n",
       "</div>"
      ],
      "text/plain": [
       "    Date  Unemployment%   PP  Education% LshipStyle  OilPrice$\n",
       "2   1993          9.807    M   54.773178   Military      16.33\n",
       "4   1995          9.816    M         NaN   Military      16.86\n",
       "5   1996          9.841    M         NaN   Military      20.29\n",
       "6   1997          9.829    M         NaN   Military      18.86\n",
       "7   1998          9.827    M         NaN   Military      12.28\n",
       "8   1999          9.804  PDP         NaN  Democracy      17.44\n",
       "9   2000          9.865  PDP         NaN  Democracy      27.60\n",
       "10  2001          9.877  PDP         NaN  Democracy      23.12\n",
       "11  2002          9.922  PDP         NaN  Democracy      24.36\n",
       "12  2003          9.905  PDP         NaN  Democracy      28.10"
      ]
     },
     "execution_count": 152,
     "metadata": {},
     "output_type": "execute_result"
    }
   ],
   "source": [
    "unp[(unp['Unemployment%']>=9.8) & (unp['OilPrice$']<36.05)]"
   ]
  },
  {
   "cell_type": "markdown",
   "metadata": {},
   "source": [
    "                                    \n",
    "                                    **CONCLUSIONS**\n",
    " After throughly analyzing and exploring the data, we were able to come to the conclusion that while most of these\n",
    "aforementioned factors have an effect on the rate of unemployment, they do no neccesarily pose a great barrier to the\n",
    "decrease in unemployment. Therefore we recommend the government to partner with young leaders, creators and thinkers together\n",
    "with established local innovators to explore and experiment with ways to meet the challenge of global change and relevant skills for the future.\n",
    "    \n",
    "    \n",
    "    "
   ]
  }
 ],
 "metadata": {
  "kernelspec": {
   "display_name": "Python 3",
   "language": "python",
   "name": "python3"
  },
  "language_info": {
   "codemirror_mode": {
    "name": "ipython",
    "version": 3
   },
   "file_extension": ".py",
   "mimetype": "text/x-python",
   "name": "python",
   "nbconvert_exporter": "python",
   "pygments_lexer": "ipython3",
   "version": "3.6.6"
  }
 },
 "nbformat": 4,
 "nbformat_minor": 1
}
